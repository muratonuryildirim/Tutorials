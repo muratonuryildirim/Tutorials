{
  "nbformat": 4,
  "nbformat_minor": 0,
  "metadata": {
    "colab": {
      "name": "deep_learning.ipynb",
      "provenance": [],
      "authorship_tag": "ABX9TyPVSavyR1LSZ9SaM/vkzTZE"
    },
    "kernelspec": {
      "name": "python3",
      "display_name": "Python 3"
    },
    "language_info": {
      "name": "python"
    }
  },
  "cells": [
    {
      "cell_type": "markdown",
      "source": [
        "# Deep Learning \n",
        "\n",
        "Deep learning (DL) is a branch of machine learning (ML) that employs algorithms inspired by the neural network of the brain which is called an artificial neural network (ANN). DL became more popular over time because it turned out to be more capable of processing raw data while ML requires some preprocessing steps to construct a viable model. But what is machine learning then?\n",
        "\n",
        "### Machine Learning\n",
        "\n",
        "Machine learning is programming computers to perform a task based on experience (examples) without giving explicit instructions. During this process, we should try to minimize the error so that the developed model can perform well.\n",
        "\n",
        "In a more mathematical way, we want to learn a function (model) with its parameters that produces the right output for a given input:\n",
        "\n",
        "f<sub>$\\theta$</sub>(x) = y\n",
        "\n",
        "argmin<sub>$\\theta$</sub> $\\epsilon$(f<sub>$\\theta$</sub>(x))\n",
        "\n",
        "#### How it is different than traditional programming?\n",
        "\n",
        "In traditional programming, systems are coded to react based on specific instructions. However, it is not the case in machine learning. The concept of machine learning or artificial intelligence advocates that giving specific instructions for each distinct situation would not be possible. Instead, the program or system should be able to learn by the provided data (examples) itself and react based on this knowledge which is a learned model function. \n",
        "\n",
        "#### How it is different than the statistics?\n",
        "Both of them aim to make predictions of natural phenomena but there are some differences. Statistics help humans understand the world by assuming that data that occurs in the universe is understandable by humans. Machine learning, on the other hand, has no such specific effort or purpose to explain how the world works besides assuming that the data generation process is unknown.\n",
        "\n",
        "#### Types of machine learning\n",
        "\n",
        "* Supervised Learning: learning a model f<sub>$\\theta$</sub>(x) from labeled data (X,y) : Given a new input X, predict the right output y.\n",
        "Example: Given examples of different houses and apartments' attributes (X), predict the price (y) of the unseen house or apartment.\n",
        "\n",
        "* Unsupervised Learning: learning a model f<sub>$\\theta$</sub>(x) from unlabeled data (X) to explore the structure of the data and extract meaningful information.\n",
        "Example: Given inputs X, find which ones are special, similar, anomalous.\n",
        "\n",
        "* Semi-Supervised Learning: learning a model f<sub>$\\theta$</sub>(x) from a few labeled and many unlabeled data.\n",
        "\n",
        "* Reinforcement Learning: creating an agent that improves its performance over time as a result of interactions with the environment."
      ],
      "metadata": {
        "id": "WtLsUp9edUlp"
      }
    }
  ]
}