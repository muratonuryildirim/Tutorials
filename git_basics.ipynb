{
  "nbformat": 4,
  "nbformat_minor": 0,
  "metadata": {
    "colab": {
      "name": "git_basics.ipynb",
      "provenance": [],
      "collapsed_sections": [],
      "authorship_tag": "ABX9TyN8oqPGNSNpYXiT9wkV8Urm"
    },
    "kernelspec": {
      "name": "python3",
      "display_name": "Python 3"
    },
    "language_info": {
      "name": "python"
    }
  },
  "cells": [
    {
      "cell_type": "markdown",
      "source": [
        "# Introduction to Git\n",
        "\n",
        "Imagine you are writing your thesis. Probably you will have tens of versions of your thesis. It is a mess, right? Or you and your teammates working on a project and each person is responsible for some part of that project. You guys need to follow who made what changes and eventually merge all the parts together to have the final project output. Git is here to help you with all the versions that you have. So, Git is basically a version control tool to easily follow the timeline of your documents or projects. To have a Git in your machine you can use the link below."
      ],
      "metadata": {
        "id": "-UfXrZD5Vz76"
      }
    },
    {
      "cell_type": "markdown",
      "source": [
        "**Git official homepage: https://git-scm.com/**"
      ],
      "metadata": {
        "id": "36GBUkDXVz-I"
      }
    },
    {
      "cell_type": "markdown",
      "source": [
        "If you download and setup it correctly according to your OS, following line of command should return the Git version that is installed on your computer."
      ],
      "metadata": {
        "id": "hXqpzMfaV0AZ"
      }
    },
    {
      "cell_type": "markdown",
      "source": [
        "```git --version```"
      ],
      "metadata": {
        "id": "kJblQAg3V0CS"
      }
    },
    {
      "cell_type": "markdown",
      "source": [
        "Let's configure your username and email address to identify yourself (track who made what changes). Of course, don't forget to replace the values inside the quotes with your name and email address."
      ],
      "metadata": {
        "id": "o5gNhjWAV-f_"
      }
    },
    {
      "cell_type": "markdown",
      "source": [
        "```git config --global user.name \"Your Name\"``` <br>\n",
        "```git config --global user.email \"yourname@email.com\"```"
      ],
      "metadata": {
        "id": "4SnAVOCwV-d8"
      }
    },
    {
      "cell_type": "markdown",
      "source": [
        "Nice, now we are ready to use Git. Let's Go!"
      ],
      "metadata": {
        "id": "e0PiMb70V-b2"
      }
    },
    {
      "cell_type": "markdown",
      "source": [
        "## Repositories and Initializing a Repository\n",
        "\n",
        "Repositories are the a storages or containers that can be tracked by Git. <br>\n",
        "There are usually two kinds of repos. (short for repositories)\n",
        "\n",
        "**1. Local repositories:** an isolated repository that is stored on your own machine, where you can work on the local version of your project. \n",
        "\n",
        "**2. Remote repositories:** generally stored outside of your local system, usually on a remote server. It's especially useful when working in teams - this is the place where you can share your project code, see other people's code and integrate it into your local version of the project, and also push your changes to the remote repository."
      ],
      "metadata": {
        "id": "6-uZYWAmV-Zt"
      }
    },
    {
      "cell_type": "markdown",
      "source": [
        "Before creating our first repo, we should know where this repo going to be created. Lets see which directory are we in right now and then we can create the repo."
      ],
      "metadata": {
        "id": "JlCRzQz1V-Xl"
      }
    },
    {
      "cell_type": "markdown",
      "source": [
        "```pwd``` \n",
        "\n",
        "*out:* \n",
        "> */ c / Users / monur*"
      ],
      "metadata": {
        "id": "LhBXjH9AV-Vh"
      }
    },
    {
      "cell_type": "markdown",
      "source": [
        "```pwd```  command helps us to find the current directory. As you can see we are currently in a *monur* folder. We can create another folder which is going to be our repository."
      ],
      "metadata": {
        "id": "Kw0QZ8dLV-Te"
      }
    },
    {
      "cell_type": "markdown",
      "source": [
        "```mkdir git_example```"
      ],
      "metadata": {
        "id": "EwcEoPw-V-RW"
      }
    },
    {
      "cell_type": "markdown",
      "source": [
        "```mkdir ```, short for make directory, basically creates a folder with a provided folder name. But did you realize what is wrong? We have make a folder but we are not currently inside of it yet. Let's check."
      ],
      "metadata": {
        "id": "pFeHv7MAV-PT"
      }
    },
    {
      "cell_type": "markdown",
      "source": [
        "```pwd``` \n",
        "\n",
        "*out:* \n",
        "> */ c / Users / monur*"
      ],
      "metadata": {
        "id": "V_bC6Z7_V-NS"
      }
    },
    {
      "cell_type": "markdown",
      "source": [
        "See, our repository created under the *monur* folder yet creating a repository does not mean that our current directory moved to the new directory. So, we need another command to make our current directory (cd) ```git_example```. And then we can initialize our first repository as ```git_example```"
      ],
      "metadata": {
        "id": "LmVPB9pSV-K6"
      }
    },
    {
      "cell_type": "markdown",
      "source": [
        "```cd /c/Users/monur/git_example ``` <br>\n",
        "```pwd``` <br>\n",
        "\n",
        "*out:*\n",
        "> */ c / Users / monur / git_example* <br>\n",
        "\n",
        "```git init```<br>\n",
        "\n",
        "*out:* \n",
        "> *Initialized empty Git repository in C:/Users/monur/git_example/.git/*"
      ],
      "metadata": {
        "id": "ulejnJeBV-B1"
      }
    },
    {
      "cell_type": "markdown",
      "source": [
        "Okay, we have learned how to check our current directory, how to create a new direectory and how to change the current directory. Finally, we have initilaized our first repo!"
      ],
      "metadata": {
        "id": "WAdSTKDkV9_k"
      }
    },
    {
      "cell_type": "markdown",
      "source": [
        "### Listing current files and creating a new one\n",
        "\n",
        "Lets create new files to work inside of our new repository and list them with a corresponding command."
      ],
      "metadata": {
        "id": "FP2PRwySWfck"
      }
    },
    {
      "cell_type": "markdown",
      "source": [
        "```touch new_file.html``` <br>\n",
        "```touch another_file.html``` <br>\n",
        "\n",
        "```ls``` <br>\n",
        "\n",
        "*out:* \n",
        "> *another_file.html &emsp; new_file.html*\n"
      ],
      "metadata": {
        "id": "o0Dqa9SlWfaP"
      }
    },
    {
      "cell_type": "markdown",
      "source": [
        "```touch``` command helps us to create a new files while ```ls``` lists all the files inside the current directory. "
      ],
      "metadata": {
        "id": "F3XH0q-HWfXs"
      }
    },
    {
      "cell_type": "markdown",
      "source": [
        "### Staging files\n",
        "\n",
        "Staging area is files that are going to be a part of the next commit, which lets git know what and which changes in the file are going to occur for the next commit."
      ],
      "metadata": {
        "id": "z6ZzqtQQWfVd"
      }
    },
    {
      "cell_type": "markdown",
      "source": [
        "```git add new_file.html```<br>\n",
        "```git status```\n",
        "\n",
        "*out:*\n",
        "> *On branch master<br>\n",
        "No commits yet<br>\n",
        "Changes to be committed:<br>\n",
        "&emsp;(use \"git rm --cached <file>...\" to unstage)<br>\n",
        "&emsp;&emsp;new file:   new_file.html<br>\n",
        "Untracked files:<br>\n",
        "&emsp;(use \"git add <file>...\" to include in what will be committed)<br>\n",
        "&emsp;&emsp;another_file.html*\n",
        "    "
      ],
      "metadata": {
        "id": "fziviKCoWfTK"
      }
    },
    {
      "cell_type": "markdown",
      "source": [
        "We have informed the git about the ```new_file.html``` will be committed later on. There are several ways to stage the files.\n",
        "\n",
        "```git add file.py``` : adds a specific file to the staging area <br>\n",
        "```git add file.py file2.py file3.py``` : adds multiple files to the staging area <br>\n",
        "```git add . ``` : adds all the files inside the project folder to the staging area"
      ],
      "metadata": {
        "id": "I6KO68HxW3nz"
      }
    },
    {
      "cell_type": "markdown",
      "source": [
        "```git add .``` <br>\n",
        "```git status```\n",
        "\n",
        "*out:*\n",
        "\n",
        "> *Changes to be committed:<br>\n",
        "&emsp;(use \"git rm --cached <file>...\" to unstage)<br>\n",
        "&emsp;&emsp;new file:   another_file.html<br>\n",
        "&emsp;&emsp;new file:   new_file.html*"
      ],
      "metadata": {
        "id": "uwoAhfkDW3pz"
      }
    },
    {
      "cell_type": "markdown",
      "source": [
        "Additionaly, ```git status``` shows us which files have been changed and tracked. It will report any modifications that we made to our tracked files. "
      ],
      "metadata": {
        "id": "rP2x63x-W3r7"
      }
    },
    {
      "cell_type": "markdown",
      "source": [
        "### Commiting files\n",
        "\n",
        "In Git, we can consider commits to be checkpoints or snapshots of your project in its current state. In other words, we basically save the current version of our code with a commit. We can create as many commits as we need in the commit history, and we can go back and forth between commits to see the different versions of our project which allows us to efficiently manage our progress and track the project as it gets developed.\n",
        "\n",
        "Commits are usually created at logical points such as after adding in specific contents, features or modifications to the project.\n",
        "\n",
        "Remember that before commiting our code, we need to place it inside the staging area with ```git add 'file_name'``` command .\n"
      ],
      "metadata": {
        "id": "mpLCCAjlW3u5"
      }
    },
    {
      "cell_type": "markdown",
      "source": [
        "```git commit -m \"create new_file and another_file\" ```\n",
        "\n",
        "*out:*\n",
        "\n",
        "> *[master (root-commit) fa2f766] create new_file and another_file <br>\n",
        "2 files changed, 0 insertions(+), 0 deletions(-) <br>\n",
        "create mode 100644 another_file.html <br>\n",
        "create mode 100644 new_file.html*"
      ],
      "metadata": {
        "id": "QrlWy59ZW32Q"
      }
    },
    {
      "cell_type": "markdown",
      "source": [
        "To create a new commit, we need to repeat the process of adding files to the staging area and then committing them after. It is very useful to use the ```git status``` command to see which files were modified, staged, or untracked."
      ],
      "metadata": {
        "id": "ysIoTk88W34d"
      }
    },
    {
      "cell_type": "markdown",
      "source": [
        "### Logging and Reaching Previous Commits\n",
        "\n",
        "The logs will show details for each commit, like the author name, the generated hash for the commit, the date and time of the commit, and the commit message that we provided. Hence, we can follow the logs with ```git log``` command and see the changes over time. "
      ],
      "metadata": {
        "id": "EQJpJc9CW36p"
      }
    },
    {
      "cell_type": "markdown",
      "source": [
        "```git log``` <br>\n",
        "\n",
        "*out:*\n",
        "\n",
        "> *commit fa2f766a7a0c8838cce0f46b9c46efa98a5e6b04 <br>\n",
        "Author: Murat Onur Yildirim <moy@email.com> <br>\n",
        "Date: Sat Apr 23 20:34:23 2022 +0300 <br>\n",
        "&emsp;&emsp;create new_file and another_file*"
      ],
      "metadata": {
        "id": "K319sbziW38s"
      }
    },
    {
      "cell_type": "markdown",
      "source": [
        "We can even go back to the previous commit with ```git checkout 'commit-hash' ```, in other words the older version, if we missed something or we like the previous commit better! To go back to the latest commit (the newest version of our project code), you can type this command: ```git checkout master```"
      ],
      "metadata": {
        "id": "5OWb_DxWW3-v"
      }
    },
    {
      "cell_type": "markdown",
      "source": [
        "```git checkout fa2f766a7a0c8838cce0f46b9c46efa98a5e6b04```\n",
        "\n",
        "*out:*\n",
        "\n",
        "> *Note: switching to 'fa2f766a7a0c8838cce0f46b9c46efa98a5e6b04'.<br>\n",
        "You are in 'detached HEAD' state. You can look around, make experimental <br>\n",
        "changes and commit them, and you can discard any commits you make in this <br>\n",
        "state without impacting any branches by switching back to a branch. <br>\n",
        "If you want to create a new branch to retain commits you create, you may <br>\n",
        "do so (now or later) by using -c with the switch command. Example: <br>\n",
        "&emsp;&emsp; git switch -c <new-branch-name> <br>\n",
        "Or undo this operation with: <br>\n",
        "&emsp;&emsp; git switch -<br>\n",
        "Turn off this advice by setting config variable advice.detachedHead to false <br>\n",
        "HEAD is now at fa2f766 new_file and another_file were created <br>*"
      ],
      "metadata": {
        "id": "WBCdKCnfXN8s"
      }
    },
    {
      "cell_type": "markdown",
      "source": [
        "Wow it is a time machine we have the older version now! It states that we are detach from the master which is correct. Remember we had a time travel by going to the older commit. Lets go back to **master branch** again."
      ],
      "metadata": {
        "id": "0xEMAvzSXN6c"
      }
    },
    {
      "cell_type": "markdown",
      "source": [
        "```git checkout master```\n",
        "\n",
        "However, as you can imagine, it is not very healthy to go back and forth on our main project or document. That is where the creating new branchs comes handy."
      ],
      "metadata": {
        "id": "2Ksh4aJQXN4R"
      }
    },
    {
      "cell_type": "markdown",
      "source": [
        "### Creating a new branch\n",
        "\n",
        "Branch could be interpreted as a different timeline or even a parallel universe of our project. Hence, the changes that is made on the branch would not be affect the our original project.\n",
        "\n",
        "That allows us to add new (experimental, unfinished, and potentially buggy) features in separate branches, without touching the  original stable version of the project. When we initialize a repository first time, the **master branch** which is our original or official branch is created by default.\n",
        "\n",
        "The first command about the branches is ```git branch``` which will not create any new braches. It will only list the current branches."
      ],
      "metadata": {
        "id": "30j3CzTTXN1d"
      }
    },
    {
      "cell_type": "markdown",
      "source": [
        ""
      ],
      "metadata": {
        "id": "i5F3aRcLXNyx"
      }
    },
    {
      "cell_type": "markdown",
      "source": [
        "```git branch```\n",
        "\n",
        "*out:* \n",
        "> **master*"
      ],
      "metadata": {
        "id": "YUH3pKgmXZBE"
      }
    },
    {
      "cell_type": "markdown",
      "source": [
        "We have only one branch master so far. Let's create a new branch for our new crazy idea instead of doing it on the master branch."
      ],
      "metadata": {
        "id": "bbscCan2XY_I"
      }
    },
    {
      "cell_type": "markdown",
      "source": [
        "```git branch alpaca``` <br>\n",
        "```git branch```\n",
        "\n",
        "*out:* \n",
        ">*alpaca<br>\n",
        "*master*"
      ],
      "metadata": {
        "id": "I77bFlpbXY82"
      }
    },
    {
      "cell_type": "markdown",
      "source": [
        "We can use the ```git checkout 'branch'``` command to switch to alpaca branch."
      ],
      "metadata": {
        "id": "rA0CVyBUXY64"
      }
    },
    {
      "cell_type": "markdown",
      "source": [
        "```git checkout alpaca```\n",
        "\n",
        "*out:* \n",
        "> *Switched to branch 'alpaca'*"
      ],
      "metadata": {
        "id": "39lZnHDuXY0b"
      }
    },
    {
      "cell_type": "markdown",
      "source": [
        "```git branch```\n",
        "\n",
        "*out:*\n",
        "\n",
        "> **alpaca <br>\n",
        "master*"
      ],
      "metadata": {
        "id": "x_04IOgtXYyU"
      }
    },
    {
      "cell_type": "markdown",
      "source": [
        "```git log```\n",
        "\n",
        "*out:*\n",
        "\n",
        ">*commit fa2f766a7a0c8838cce0f46b9c46efa98a5e6b04 (HEAD -> alpaca, master) <br>\n",
        "Author: Murat Onur Yildirim <moy@email.com> <br>\n",
        "Date:   Sat Apr 23 20:34:23 2022 +0300 <br>\n",
        "&emsp;&emsp;create new_file and another_file*"
      ],
      "metadata": {
        "id": "CTrCEXjsXs_O"
      }
    },
    {
      "cell_type": "markdown",
      "source": [
        "Assume that we make some modifications in the files and we will commit the changes."
      ],
      "metadata": {
        "id": "iYojlETaXs9B"
      }
    },
    {
      "cell_type": "markdown",
      "source": [
        "```git add .```<br>\n",
        "```git commit -m 'modify new_file and another_file'```\n",
        "\n",
        "*out:*\n",
        "\n",
        "> *[alpaca 626925a] modify new_file and another_file <br>\n",
        "2 files changed, 2 insertions(+)*"
      ],
      "metadata": {
        "id": "MfiHKiqnXs6r"
      }
    },
    {
      "cell_type": "markdown",
      "source": [
        "```git log```\n",
        "    \n",
        "*out:*\n",
        "\n",
        "> *commit 626925acf48cfa6ac8c831b57df097267f889ab9 (HEAD -> alpaca)<br>\n",
        "Author: Murat Onur Yildirim <moy@email.com> <br>\n",
        "Date:   Sun Apr 24 13:45:42 2022 +0300 <br>\n",
        "&emsp;&emsp;modify new_file and another_file <br>\n",
        "&emsp;<br>\n",
        "commit fa2f766a7a0c8838cce0f46b9c46efa98a5e6b04 (master) <br>\n",
        "Author: Murat Onur Yildirim <moy@email.com> <br>\n",
        "Date:   Sat Apr 23 20:34:23 2022 +0300 <br>\n",
        "&emsp;&emsp;create new_file and another_file*"
      ],
      "metadata": {
        "id": "qs4NUEdZXs4l"
      }
    },
    {
      "cell_type": "markdown",
      "source": [
        "But remember that we are in an alternative universe which we named alpaca. So if we go back to the master branch we are not going to see any changes at all!"
      ],
      "metadata": {
        "id": "hXccTXB8Xsdk"
      }
    },
    {
      "cell_type": "markdown",
      "source": [
        "```git checkout master```\n",
        "\n",
        "*out:* \n",
        "> *Switched to branch 'master'*\n",
        "    \n",
        "```git log```\n",
        "\n",
        "*out:*\n",
        "\n",
        "> *commit fa2f766a7a0c8838cce0f46b9c46efa98a5e6b04 (HEAD -> master) <br>\n",
        "Author: Murat Onur Yildirim <moy@email.com> <br>\n",
        "Date:   Sat Apr 23 20:34:23 2022 +0300 <br>\n",
        "&emsp;&emsp;create new_file and another_file*"
      ],
      "metadata": {
        "id": "7eFR3oVVX0uv"
      }
    },
    {
      "cell_type": "markdown",
      "source": [
        "Assume we thought that *alpaca* update looks pretty cool. So, we have decided to update our master branch by merging our branches."
      ],
      "metadata": {
        "id": "e_05fLqBX0tD"
      }
    },
    {
      "cell_type": "markdown",
      "source": [
        "```git merge alpaca```\n",
        "\n",
        "*out:*\n",
        "\n",
        ">*Updating 1f7f49b..626925a <br>\n",
        "Fast-forward <br>\n",
        "new_file.html   | 1 + <br>\n",
        "other_file.html | 1 + <br>\n",
        "2 files changed, 2 insertions(+)*"
      ],
      "metadata": {
        "id": "xY5r_4xvX0q8"
      }
    },
    {
      "cell_type": "markdown",
      "source": [
        "```git log```\n",
        "    \n",
        "*out:*\n",
        "\n",
        "> *commit 626925acf48cfa6ac8c831b57df097267f889ab9 (HEAD -> master, alpaca)<br>\n",
        "Author: Murat Onur Yildirim <moy@email.com> <br>\n",
        "Date:   Sun Apr 24 13:45:42 2022 +0300 <br>\n",
        "&emsp;&emsp;modify new_file and another_file <br>\n",
        "&emsp;<br>\n",
        "commit fa2f766a7a0c8838cce0f46b9c46efa98a5e6b04 <br>\n",
        "Author: Murat Onur Yildirim <moy@email.com> <br>\n",
        "Date:   Sat Apr 23 20:34:23 2022 +0300 <br>\n",
        "&emsp;&emsp;create new_file and another_file*"
      ],
      "metadata": {
        "id": "I-x9-nrTX0pA"
      }
    },
    {
      "cell_type": "markdown",
      "source": [
        "# Additional Commands for GitHub\n",
        "\n",
        "git clone [URL]: clones a repo to your local machine\n",
        "\n",
        "git push origin [branch name]: pushes the modification that you made on your local machine\n",
        "\n",
        "git pull origin [branch name]: pulls modification that is made on the [branch name] remote repo\n",
        "\n",
        "git pull: pulls modification that is made on the entire remote repo\n"
      ],
      "metadata": {
        "id": "OIoyUsHlX9XX"
      }
    },
    {
      "cell_type": "markdown",
      "source": [
        "That is it! We have talked about how to:\n",
        "\n",
        "1. create a new repository\n",
        "2. stage files \n",
        "3. commit files\n",
        "4. reach logs and previous commits\n",
        "5. create new branch\n",
        "6. merge the branches together\n",
        "7. some useful github commands\n",
        "\n",
        "This was a basic handbook for introduction to Git. Thanks!"
      ],
      "metadata": {
        "id": "vTlNZantX_Ej"
      }
    }
  ]
}